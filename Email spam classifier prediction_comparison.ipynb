{
 "cells": [
  {
   "cell_type": "code",
   "execution_count": 1,
   "id": "1da4fcd6-82ab-473e-8898-27daa2c273db",
   "metadata": {},
   "outputs": [],
   "source": [
    "import os\n",
    "from collections import Counter\n",
    "import numpy as np\n",
    "from sklearn.model_selection import train_test_split, GridSearchCV, RandomizedSearchCV\n",
    "from sklearn.naive_bayes import MultinomialNB\n",
    "from sklearn.tree import DecisionTreeClassifier\n",
    "from sklearn.ensemble import RandomForestClassifier, BaggingClassifier, VotingClassifier\n",
    "from sklearn.svm import SVC\n",
    "from sklearn.metrics import accuracy_score"
   ]
  },
  {
   "cell_type": "code",
   "execution_count": 2,
   "id": "319062f9-2328-4270-a9b1-477c9317404e",
   "metadata": {},
   "outputs": [],
   "source": [
    "# Function to load and preprocess emails\n",
    "def load_emails(folder):\n",
    "    files = os.listdir(folder)\n",
    "    emails = [os.path.join(folder, file) for file in files]\n",
    "    words = []\n",
    "\n",
    "    for email in emails:\n",
    "        with open(email, encoding='latin-1') as f:\n",
    "            blob = f.read()\n",
    "            words += blob.split(\" \")\n",
    "\n",
    "    words = [word for word in words if word.isalpha()]\n",
    "    return emails, words"
   ]
  },
  {
   "cell_type": "code",
   "execution_count": 3,
   "id": "a551764a-208e-4bb9-8184-e389ff561804",
   "metadata": {},
   "outputs": [],
   "source": [
    "# Function to extract features and labels\n",
    "def extract_features_labels(emails, word_dict):\n",
    "    features = []\n",
    "    labels = []\n",
    "    \n",
    "    for email in emails:\n",
    "        with open(email, encoding='latin-1') as f:\n",
    "            blob = f.read().split(\" \")\n",
    "            data = [blob.count(word[0]) for word in word_dict]\n",
    "            features.append(data)\n",
    "            \n",
    "            if 'spam' in email:\n",
    "                labels.append(1)\n",
    "            if 'ham' in email:\n",
    "                labels.append(0)\n",
    "                \n",
    "    return np.array(features), np.array(labels)"
   ]
  },
  {
   "cell_type": "code",
   "execution_count": 4,
   "id": "93653f56-a008-40bd-91fe-7b8656de7b66",
   "metadata": {},
   "outputs": [
    {
     "name": "stdout",
     "output_type": "stream",
     "text": [
      "Number of emails: 5172\n"
     ]
    }
   ],
   "source": [
    "# Load emails and preprocess\n",
    "folder = 'training emails/'\n",
    "emails, words = load_emails(folder)\n",
    "print(\"Number of emails:\", len(emails))"
   ]
  },
  {
   "cell_type": "code",
   "execution_count": 5,
   "id": "c05cb4b9-f933-40d4-a7b2-3533931f74d9",
   "metadata": {},
   "outputs": [],
   "source": [
    "# Create word dictionary\n",
    "word_dict = Counter(words)\n",
    "del word_dict[\"\"]\n",
    "word_dict = word_dict.most_common(3000)"
   ]
  },
  {
   "cell_type": "code",
   "execution_count": 6,
   "id": "c10fad41-9fd6-4e48-8c65-7ac98c4faa55",
   "metadata": {},
   "outputs": [
    {
     "name": "stdout",
     "output_type": "stream",
     "text": [
      "Features shape: (5172, 3000)\n",
      "Labels shape: (5172,)\n"
     ]
    }
   ],
   "source": [
    "# Extract features and labels\n",
    "features, labels = extract_features_labels(emails, word_dict)\n",
    "print(\"Features shape:\", features.shape)\n",
    "print(\"Labels shape:\", labels.shape)"
   ]
  },
  {
   "cell_type": "code",
   "execution_count": 7,
   "id": "01c8a03f-6959-41d0-806d-d47f57f53d65",
   "metadata": {},
   "outputs": [
    {
     "name": "stdout",
     "output_type": "stream",
     "text": [
      "Training data shape: (4137, 3000) (4137,)\n",
      "Testing data shape: (1035, 3000) (1035,)\n"
     ]
    }
   ],
   "source": [
    "# Split data into training and testing sets\n",
    "x_train, x_test, y_train, y_test = train_test_split(features, labels, test_size=0.2, random_state=9)\n",
    "print(\"Training data shape:\", x_train.shape, y_train.shape)\n",
    "print(\"Testing data shape:\", x_test.shape, y_test.shape)"
   ]
  },
  {
   "cell_type": "code",
   "execution_count": 8,
   "id": "f52a7ec9-3742-43ac-aa33-5a346080f2e2",
   "metadata": {},
   "outputs": [
    {
     "name": "stdout",
     "output_type": "stream",
     "text": [
      "Naive Bayes Classifier Accuracy: 0.9439613526570049\n"
     ]
    }
   ],
   "source": [
    "# Train and test Naive Bayes Classifier\n",
    "classifier_nb = MultinomialNB()\n",
    "classifier_nb.fit(x_train, y_train)\n",
    "y_pred_nb = classifier_nb.predict(x_test)\n",
    "accuracy_nb = accuracy_score(y_pred_nb, y_test)\n",
    "print(\"Naive Bayes Classifier Accuracy:\", accuracy_nb)"
   ]
  },
  {
   "cell_type": "code",
   "execution_count": 9,
   "id": "3c51e243-11a0-49eb-bdcf-faf2d05d41a8",
   "metadata": {},
   "outputs": [
    {
     "name": "stdout",
     "output_type": "stream",
     "text": [
      "Prediction for the new email: spam\n"
     ]
    }
   ],
   "source": [
    "# Predict using trained classifier\n",
    "new_email = \"\"\"You have unlocked a new offer.\n",
    "Deposit money in order to claim the prize. Hurry up before the stock runs out!\"\"\"\n",
    "sample = []\n",
    "for i in word_dict:\n",
    "    sample.append(new_email.split(\" \").count(i[0]))\n",
    "\n",
    "sample = np.array(sample)\n",
    "prediction = classifier_nb.predict(sample.reshape(1, 3000))\n",
    "print(\"Prediction for the new email:\", \"spam\" if prediction[0] == 1 else \"ham\")"
   ]
  },
  {
   "cell_type": "code",
   "execution_count": 10,
   "id": "2b5455d2-795b-448f-895e-bfa72c444247",
   "metadata": {},
   "outputs": [],
   "source": [
    "# Hyperparameter tuning for Decision Tree Classifier\n",
    "param_grid_dt = {'max_depth': [None, 10, 20, 30, 50],\n",
    "                 'min_samples_split': [2, 5, 10],\n",
    "                 'min_samples_leaf': [1, 2, 4]}\n",
    "classifier_dt = GridSearchCV(DecisionTreeClassifier(), param_grid_dt, cv=5)\n",
    "classifier_dt.fit(x_train, y_train)\n",
    "best_classifier_dt = classifier_dt.best_estimator_"
   ]
  },
  {
   "cell_type": "code",
   "execution_count": 11,
   "id": "939a56e2-bdea-4317-8a27-cfa05ff7b99e",
   "metadata": {},
   "outputs": [],
   "source": [
    "# Hyperparameter tuning for Random Forest Classifier\n",
    "param_dist_rf = {'n_estimators': [50, 100, 200],\n",
    "                 'max_features': ['sqrt', 'log2', None],\n",
    "                 'max_depth': [None, 10, 20, 30],\n",
    "                 'min_samples_split': [2, 5, 10],\n",
    "                 'min_samples_leaf': [1, 2, 4]}\n",
    "\n",
    "n_iter_search = 10  # You can adjust this value based on computational resources\n",
    "\n",
    "classifier_rf = RandomizedSearchCV(RandomForestClassifier(), param_distributions=param_dist_rf, n_iter=n_iter_search, cv=5, n_jobs=-1)\n",
    "classifier_rf.fit(x_train, y_train)\n",
    "best_classifier_rf = classifier_rf.best_estimator_"
   ]
  },
  {
   "cell_type": "code",
   "execution_count": 12,
   "id": "b42c45d6-f4ed-4683-a4b7-9bfa4236c8ff",
   "metadata": {},
   "outputs": [],
   "source": [
    "# Hyperparameter tuning for SVM Classifier\n",
    "param_grid_svm = {'C': [0.1, 1, 10, 100],\n",
    "                  'gamma': [1, 0.1, 0.01, 0.001],\n",
    "                  'kernel': ['linear', 'rbf']}\n",
    "classifier_svm = GridSearchCV(SVC(), param_grid_svm, cv=5)\n",
    "classifier_svm.fit(x_train, y_train)\n",
    "best_classifier_svm = classifier_svm.best_estimator_"
   ]
  },
  {
   "cell_type": "code",
   "execution_count": 13,
   "id": "e0020bca-6eb3-4590-b882-8f03a916ec45",
   "metadata": {},
   "outputs": [],
   "source": [
    "# Hyperparameter tuning for Naive Bayes Classifier\n",
    "param_grid_nb = {'alpha': [0.1, 0.5, 1.0, 1.5, 2.0]}\n",
    "classifier_nb = GridSearchCV(MultinomialNB(), param_grid_nb, cv=5)\n",
    "classifier_nb.fit(x_train, y_train)\n",
    "best_classifier_nb = classifier_nb.best_estimator_"
   ]
  },
  {
   "cell_type": "code",
   "execution_count": 14,
   "id": "b87db3e5-d8c4-45e6-80a4-82bc685a367f",
   "metadata": {},
   "outputs": [],
   "source": [
    "# Evaluate best classifiers\n",
    "y_pred_best_nb = best_classifier_nb.predict(x_test)\n",
    "accuracy_best_nb = accuracy_score(y_pred_best_nb, y_test)\n",
    "\n",
    "y_pred_best_dt = best_classifier_dt.predict(x_test)\n",
    "accuracy_best_dt = accuracy_score(y_pred_best_dt, y_test)\n",
    "\n",
    "y_pred_best_rf = best_classifier_rf.predict(x_test)\n",
    "accuracy_best_rf = accuracy_score(y_pred_best_rf, y_test)\n",
    "\n",
    "y_pred_best_svm = best_classifier_svm.predict(x_test)\n",
    "accuracy_best_svm = accuracy_score(y_pred_best_svm, y_test)"
   ]
  },
  {
   "cell_type": "code",
   "execution_count": 15,
   "id": "8250f20b-d49e-4ddc-93ba-0c0fe69bfb1c",
   "metadata": {},
   "outputs": [
    {
     "name": "stdout",
     "output_type": "stream",
     "text": [
      "Best Naive Bayes Accuracy: 0.9594202898550724\n",
      "Best Decision Tree Accuracy: 0.9323671497584541\n",
      "Best Random Forest Accuracy: 0.9507246376811594\n",
      "Best SVM Accuracy: 0.970048309178744\n"
     ]
    }
   ],
   "source": [
    "# Print accuracies for best classifiers\n",
    "print(\"Best Naive Bayes Accuracy:\", accuracy_best_nb)\n",
    "print(\"Best Decision Tree Accuracy:\", accuracy_best_dt)\n",
    "print(\"Best Random Forest Accuracy:\", accuracy_best_rf)\n",
    "print(\"Best SVM Accuracy:\", accuracy_best_svm)"
   ]
  },
  {
   "cell_type": "code",
   "execution_count": 16,
   "id": "9971a8a5-55e0-4d36-b1b8-63472bd775ea",
   "metadata": {},
   "outputs": [],
   "source": [
    "# Define base classifiers\n",
    "base_classifiers = [('naive_bayes', best_classifier_nb),\n",
    "                    ('decision_tree', best_classifier_dt),\n",
    "                    ('random_forest', best_classifier_rf),\n",
    "                    ('svm', best_classifier_svm)]"
   ]
  },
  {
   "cell_type": "code",
   "execution_count": 17,
   "id": "0f418809-31ca-408b-a331-35fd5c063917",
   "metadata": {},
   "outputs": [],
   "source": [
    "# Create bagging ensemble model with VotingClassifier as the base estimator\n",
    "bagging_model = BaggingClassifier(VotingClassifier(base_classifiers), n_estimators=10, random_state=42)"
   ]
  },
  {
   "cell_type": "code",
   "execution_count": 18,
   "id": "74ef7c85-0c5d-41aa-a963-c5ca4429f9a3",
   "metadata": {},
   "outputs": [
    {
     "data": {
      "text/html": [
       "<style>#sk-container-id-1 {color: black;}#sk-container-id-1 pre{padding: 0;}#sk-container-id-1 div.sk-toggleable {background-color: white;}#sk-container-id-1 label.sk-toggleable__label {cursor: pointer;display: block;width: 100%;margin-bottom: 0;padding: 0.3em;box-sizing: border-box;text-align: center;}#sk-container-id-1 label.sk-toggleable__label-arrow:before {content: \"▸\";float: left;margin-right: 0.25em;color: #696969;}#sk-container-id-1 label.sk-toggleable__label-arrow:hover:before {color: black;}#sk-container-id-1 div.sk-estimator:hover label.sk-toggleable__label-arrow:before {color: black;}#sk-container-id-1 div.sk-toggleable__content {max-height: 0;max-width: 0;overflow: hidden;text-align: left;background-color: #f0f8ff;}#sk-container-id-1 div.sk-toggleable__content pre {margin: 0.2em;color: black;border-radius: 0.25em;background-color: #f0f8ff;}#sk-container-id-1 input.sk-toggleable__control:checked~div.sk-toggleable__content {max-height: 200px;max-width: 100%;overflow: auto;}#sk-container-id-1 input.sk-toggleable__control:checked~label.sk-toggleable__label-arrow:before {content: \"▾\";}#sk-container-id-1 div.sk-estimator input.sk-toggleable__control:checked~label.sk-toggleable__label {background-color: #d4ebff;}#sk-container-id-1 div.sk-label input.sk-toggleable__control:checked~label.sk-toggleable__label {background-color: #d4ebff;}#sk-container-id-1 input.sk-hidden--visually {border: 0;clip: rect(1px 1px 1px 1px);clip: rect(1px, 1px, 1px, 1px);height: 1px;margin: -1px;overflow: hidden;padding: 0;position: absolute;width: 1px;}#sk-container-id-1 div.sk-estimator {font-family: monospace;background-color: #f0f8ff;border: 1px dotted black;border-radius: 0.25em;box-sizing: border-box;margin-bottom: 0.5em;}#sk-container-id-1 div.sk-estimator:hover {background-color: #d4ebff;}#sk-container-id-1 div.sk-parallel-item::after {content: \"\";width: 100%;border-bottom: 1px solid gray;flex-grow: 1;}#sk-container-id-1 div.sk-label:hover label.sk-toggleable__label {background-color: #d4ebff;}#sk-container-id-1 div.sk-serial::before {content: \"\";position: absolute;border-left: 1px solid gray;box-sizing: border-box;top: 0;bottom: 0;left: 50%;z-index: 0;}#sk-container-id-1 div.sk-serial {display: flex;flex-direction: column;align-items: center;background-color: white;padding-right: 0.2em;padding-left: 0.2em;position: relative;}#sk-container-id-1 div.sk-item {position: relative;z-index: 1;}#sk-container-id-1 div.sk-parallel {display: flex;align-items: stretch;justify-content: center;background-color: white;position: relative;}#sk-container-id-1 div.sk-item::before, #sk-container-id-1 div.sk-parallel-item::before {content: \"\";position: absolute;border-left: 1px solid gray;box-sizing: border-box;top: 0;bottom: 0;left: 50%;z-index: -1;}#sk-container-id-1 div.sk-parallel-item {display: flex;flex-direction: column;z-index: 1;position: relative;background-color: white;}#sk-container-id-1 div.sk-parallel-item:first-child::after {align-self: flex-end;width: 50%;}#sk-container-id-1 div.sk-parallel-item:last-child::after {align-self: flex-start;width: 50%;}#sk-container-id-1 div.sk-parallel-item:only-child::after {width: 0;}#sk-container-id-1 div.sk-dashed-wrapped {border: 1px dashed gray;margin: 0 0.4em 0.5em 0.4em;box-sizing: border-box;padding-bottom: 0.4em;background-color: white;}#sk-container-id-1 div.sk-label label {font-family: monospace;font-weight: bold;display: inline-block;line-height: 1.2em;}#sk-container-id-1 div.sk-label-container {text-align: center;}#sk-container-id-1 div.sk-container {/* jupyter's `normalize.less` sets `[hidden] { display: none; }` but bootstrap.min.css set `[hidden] { display: none !important; }` so we also need the `!important` here to be able to override the default hidden behavior on the sphinx rendered scikit-learn.org. See: https://github.com/scikit-learn/scikit-learn/issues/21755 */display: inline-block !important;position: relative;}#sk-container-id-1 div.sk-text-repr-fallback {display: none;}</style><div id=\"sk-container-id-1\" class=\"sk-top-container\"><div class=\"sk-text-repr-fallback\"><pre>BaggingClassifier(estimator=VotingClassifier(estimators=[(&#x27;naive_bayes&#x27;,\n",
       "                                                          MultinomialNB(alpha=0.1)),\n",
       "                                                         (&#x27;decision_tree&#x27;,\n",
       "                                                          DecisionTreeClassifier(min_samples_split=5)),\n",
       "                                                         (&#x27;random_forest&#x27;,\n",
       "                                                          RandomForestClassifier(max_depth=30)),\n",
       "                                                         (&#x27;svm&#x27;,\n",
       "                                                          SVC(C=0.1, gamma=1,\n",
       "                                                              kernel=&#x27;linear&#x27;))]),\n",
       "                  random_state=42)</pre><b>In a Jupyter environment, please rerun this cell to show the HTML representation or trust the notebook. <br />On GitHub, the HTML representation is unable to render, please try loading this page with nbviewer.org.</b></div><div class=\"sk-container\" hidden><div class=\"sk-item sk-dashed-wrapped\"><div class=\"sk-label-container\"><div class=\"sk-label sk-toggleable\"><input class=\"sk-toggleable__control sk-hidden--visually\" id=\"sk-estimator-id-1\" type=\"checkbox\" ><label for=\"sk-estimator-id-1\" class=\"sk-toggleable__label sk-toggleable__label-arrow\">BaggingClassifier</label><div class=\"sk-toggleable__content\"><pre>BaggingClassifier(estimator=VotingClassifier(estimators=[(&#x27;naive_bayes&#x27;,\n",
       "                                                          MultinomialNB(alpha=0.1)),\n",
       "                                                         (&#x27;decision_tree&#x27;,\n",
       "                                                          DecisionTreeClassifier(min_samples_split=5)),\n",
       "                                                         (&#x27;random_forest&#x27;,\n",
       "                                                          RandomForestClassifier(max_depth=30)),\n",
       "                                                         (&#x27;svm&#x27;,\n",
       "                                                          SVC(C=0.1, gamma=1,\n",
       "                                                              kernel=&#x27;linear&#x27;))]),\n",
       "                  random_state=42)</pre></div></div></div><div class=\"sk-parallel\"><div class=\"sk-parallel-item\"><div class=\"sk-item\"><div class=\"sk-label-container\"><div class=\"sk-label sk-toggleable\"><input class=\"sk-toggleable__control sk-hidden--visually\" id=\"sk-estimator-id-2\" type=\"checkbox\" ><label for=\"sk-estimator-id-2\" class=\"sk-toggleable__label sk-toggleable__label-arrow\">estimator: VotingClassifier</label><div class=\"sk-toggleable__content\"><pre>VotingClassifier(estimators=[(&#x27;naive_bayes&#x27;, MultinomialNB(alpha=0.1)),\n",
       "                             (&#x27;decision_tree&#x27;,\n",
       "                              DecisionTreeClassifier(min_samples_split=5)),\n",
       "                             (&#x27;random_forest&#x27;,\n",
       "                              RandomForestClassifier(max_depth=30)),\n",
       "                             (&#x27;svm&#x27;, SVC(C=0.1, gamma=1, kernel=&#x27;linear&#x27;))])</pre></div></div></div><div class=\"sk-serial\"><div class=\"sk-item sk-dashed-wrapped\"><div class=\"sk-parallel\"><div class=\"sk-parallel-item\"><div class=\"sk-item\"><div class=\"sk-label-container\"><div class=\"sk-label sk-toggleable\"><label>naive_bayes</label></div></div><div class=\"sk-serial\"><div class=\"sk-item\"><div class=\"sk-estimator sk-toggleable\"><input class=\"sk-toggleable__control sk-hidden--visually\" id=\"sk-estimator-id-3\" type=\"checkbox\" ><label for=\"sk-estimator-id-3\" class=\"sk-toggleable__label sk-toggleable__label-arrow\">MultinomialNB</label><div class=\"sk-toggleable__content\"><pre>MultinomialNB(alpha=0.1)</pre></div></div></div></div></div></div><div class=\"sk-parallel-item\"><div class=\"sk-item\"><div class=\"sk-label-container\"><div class=\"sk-label sk-toggleable\"><label>decision_tree</label></div></div><div class=\"sk-serial\"><div class=\"sk-item\"><div class=\"sk-estimator sk-toggleable\"><input class=\"sk-toggleable__control sk-hidden--visually\" id=\"sk-estimator-id-4\" type=\"checkbox\" ><label for=\"sk-estimator-id-4\" class=\"sk-toggleable__label sk-toggleable__label-arrow\">DecisionTreeClassifier</label><div class=\"sk-toggleable__content\"><pre>DecisionTreeClassifier(min_samples_split=5)</pre></div></div></div></div></div></div><div class=\"sk-parallel-item\"><div class=\"sk-item\"><div class=\"sk-label-container\"><div class=\"sk-label sk-toggleable\"><label>random_forest</label></div></div><div class=\"sk-serial\"><div class=\"sk-item\"><div class=\"sk-estimator sk-toggleable\"><input class=\"sk-toggleable__control sk-hidden--visually\" id=\"sk-estimator-id-5\" type=\"checkbox\" ><label for=\"sk-estimator-id-5\" class=\"sk-toggleable__label sk-toggleable__label-arrow\">RandomForestClassifier</label><div class=\"sk-toggleable__content\"><pre>RandomForestClassifier(max_depth=30)</pre></div></div></div></div></div></div><div class=\"sk-parallel-item\"><div class=\"sk-item\"><div class=\"sk-label-container\"><div class=\"sk-label sk-toggleable\"><label>svm</label></div></div><div class=\"sk-serial\"><div class=\"sk-item\"><div class=\"sk-estimator sk-toggleable\"><input class=\"sk-toggleable__control sk-hidden--visually\" id=\"sk-estimator-id-6\" type=\"checkbox\" ><label for=\"sk-estimator-id-6\" class=\"sk-toggleable__label sk-toggleable__label-arrow\">SVC</label><div class=\"sk-toggleable__content\"><pre>SVC(C=0.1, gamma=1, kernel=&#x27;linear&#x27;)</pre></div></div></div></div></div></div></div></div></div></div></div></div></div></div></div>"
      ],
      "text/plain": [
       "BaggingClassifier(estimator=VotingClassifier(estimators=[('naive_bayes',\n",
       "                                                          MultinomialNB(alpha=0.1)),\n",
       "                                                         ('decision_tree',\n",
       "                                                          DecisionTreeClassifier(min_samples_split=5)),\n",
       "                                                         ('random_forest',\n",
       "                                                          RandomForestClassifier(max_depth=30)),\n",
       "                                                         ('svm',\n",
       "                                                          SVC(C=0.1, gamma=1,\n",
       "                                                              kernel='linear'))]),\n",
       "                  random_state=42)"
      ]
     },
     "execution_count": 18,
     "metadata": {},
     "output_type": "execute_result"
    }
   ],
   "source": [
    "# Fit the bagging ensemble model on the training data\n",
    "bagging_model.fit(x_train, y_train)"
   ]
  },
  {
   "cell_type": "code",
   "execution_count": 19,
   "id": "3b6ef614-d10d-440d-9b9e-4a225e629a8e",
   "metadata": {},
   "outputs": [],
   "source": [
    "# Predict using the bagging ensemble model\n",
    "y_pred_bagging = bagging_model.predict(x_test)"
   ]
  },
  {
   "cell_type": "code",
   "execution_count": 20,
   "id": "507def99-3b32-4378-a7b4-8103767bb5e8",
   "metadata": {},
   "outputs": [
    {
     "name": "stdout",
     "output_type": "stream",
     "text": [
      "Bagging Model Accuracy: 0.9710144927536232\n"
     ]
    }
   ],
   "source": [
    "# Calculate accuracy of the bagging ensemble model\n",
    "accuracy_bagging = accuracy_score(y_pred_bagging, y_test)\n",
    "print(\"Bagging Model Accuracy:\", accuracy_bagging)"
   ]
  },
  {
   "cell_type": "code",
   "execution_count": null,
   "id": "8e426301-ca34-4d51-882a-eb2d8b2cc32d",
   "metadata": {},
   "outputs": [],
   "source": []
  }
 ],
 "metadata": {
  "kernelspec": {
   "display_name": "Python 3 (ipykernel)",
   "language": "python",
   "name": "python3"
  },
  "language_info": {
   "codemirror_mode": {
    "name": "ipython",
    "version": 3
   },
   "file_extension": ".py",
   "mimetype": "text/x-python",
   "name": "python",
   "nbconvert_exporter": "python",
   "pygments_lexer": "ipython3",
   "version": "3.11.3"
  }
 },
 "nbformat": 4,
 "nbformat_minor": 5
}
